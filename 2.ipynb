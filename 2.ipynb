{
 "cells": [
  {
   "cell_type": "markdown",
   "id": "576bf128",
   "metadata": {},
   "source": [
    "Bernoulli Naive Bayes and Multinomial Naive Bayes are two variants of the Naive Bayes algorithm that are commonly used for text classification and other discrete data classification tasks. The main difference between them lies in the type of data they are designed to handle.\n",
    "\n",
    "Bernoulli Naive Bayes:\n",
    "\n",
    "Use Case: Bernoulli Naive Bayes is suitable for binary or binarized data, where features represent presence or absence.\n",
    "Input Data: Typically used for text classification, where each feature represents the presence or absence of a term in a document (binary features).\n",
    "Feature Representation: Each feature is considered as a binary variable (1 if the term is present, 0 if absent).\n",
    "Example: Sentiment analysis, spam detection, where each term is treated as a binary feature indicating whether a word is present or not.\n",
    "Multinomial Naive Bayes:\n",
    "\n",
    "Use Case: Multinomial Naive Bayes is suitable for discrete data, often used for text classification with term frequency features.\n",
    "Input Data: Suitable for datasets where features are represented by counts or frequencies (e.g., word counts in documents).\n",
    "Feature Representation: Each feature represents the frequency of a term in a document.\n",
    "Example: Document classification based on word frequencies, spam filtering using word counts."
   ]
  }
 ],
 "metadata": {
  "kernelspec": {
   "display_name": "Python 3 (ipykernel)",
   "language": "python",
   "name": "python3"
  },
  "language_info": {
   "codemirror_mode": {
    "name": "ipython",
    "version": 3
   },
   "file_extension": ".py",
   "mimetype": "text/x-python",
   "name": "python",
   "nbconvert_exporter": "python",
   "pygments_lexer": "ipython3",
   "version": "3.10.9"
  }
 },
 "nbformat": 4,
 "nbformat_minor": 5
}
