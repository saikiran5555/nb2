{
 "cells": [
  {
   "cell_type": "code",
   "execution_count": 1,
   "id": "5aebc3f3",
   "metadata": {},
   "outputs": [
    {
     "name": "stdout",
     "output_type": "stream",
     "text": [
      "Bernoulli Naive Bayes:\n",
      "Accuracy: 0.8839380364047911\n",
      "Precision: 0.8869617393737383\n",
      "Recall: 0.8152389047416673\n",
      "F1 Score: 0.8481249015095276\n",
      "\n",
      "Multinomial Naive Bayes:\n",
      "Accuracy: 0.7863496180326323\n",
      "Precision: 0.7393175533565436\n",
      "Recall: 0.7214983911116508\n",
      "F1 Score: 0.7282909724016348\n",
      "\n",
      "Gaussian Naive Bayes:\n",
      "Accuracy: 0.8217730830896915\n",
      "Precision: 0.7103733928118492\n",
      "Recall: 0.9569516119239877\n",
      "F1 Score: 0.8130660909542995\n"
     ]
    }
   ],
   "source": [
    "import pandas as pd\n",
    "from sklearn.model_selection import cross_val_score\n",
    "from sklearn.naive_bayes import BernoulliNB, MultinomialNB, GaussianNB\n",
    "from sklearn.metrics import accuracy_score, precision_score, recall_score, f1_score\n",
    "\n",
    "# Load the Spambase dataset\n",
    "url = \"spambase.data\"\n",
    "spambase_data = pd.read_csv(url, header=None)\n",
    "\n",
    "# Assuming the last column is the target (spam or not)\n",
    "X = spambase_data.iloc[:, :-1]\n",
    "y = spambase_data.iloc[:, -1]\n",
    "\n",
    "# Function to evaluate classifiers using cross-validation\n",
    "def evaluate_classifier(classifier, X, y):\n",
    "    accuracy = cross_val_score(classifier, X, y, cv=10, scoring='accuracy').mean()\n",
    "    precision = cross_val_score(classifier, X, y, cv=10, scoring='precision').mean()\n",
    "    recall = cross_val_score(classifier, X, y, cv=10, scoring='recall').mean()\n",
    "    f1 = cross_val_score(classifier, X, y, cv=10, scoring='f1').mean()\n",
    "    return accuracy, precision, recall, f1\n",
    "\n",
    "# Instantiate the classifiers\n",
    "bernoulli_nb = BernoulliNB()\n",
    "multinomial_nb = MultinomialNB()\n",
    "gaussian_nb = GaussianNB()\n",
    "\n",
    "# Evaluate each classifier\n",
    "accuracy_b, precision_b, recall_b, f1_b = evaluate_classifier(bernoulli_nb, X, y)\n",
    "accuracy_m, precision_m, recall_m, f1_m = evaluate_classifier(multinomial_nb, X, y)\n",
    "accuracy_g, precision_g, recall_g, f1_g = evaluate_classifier(gaussian_nb, X, y)\n",
    "\n",
    "# Print results\n",
    "print(\"Bernoulli Naive Bayes:\")\n",
    "print(f\"Accuracy: {accuracy_b}\")\n",
    "print(f\"Precision: {precision_b}\")\n",
    "print(f\"Recall: {recall_b}\")\n",
    "print(f\"F1 Score: {f1_b}\")\n",
    "print()\n",
    "\n",
    "print(\"Multinomial Naive Bayes:\")\n",
    "print(f\"Accuracy: {accuracy_m}\")\n",
    "print(f\"Precision: {precision_m}\")\n",
    "print(f\"Recall: {recall_m}\")\n",
    "print(f\"F1 Score: {f1_m}\")\n",
    "print()\n",
    "\n",
    "print(\"Gaussian Naive Bayes:\")\n",
    "print(f\"Accuracy: {accuracy_g}\")\n",
    "print(f\"Precision: {precision_g}\")\n",
    "print(f\"Recall: {recall_g}\")\n",
    "print(f\"F1 Score: {f1_g}\")\n"
   ]
  },
  {
   "cell_type": "code",
   "execution_count": null,
   "id": "303c478e",
   "metadata": {},
   "outputs": [],
   "source": []
  }
 ],
 "metadata": {
  "kernelspec": {
   "display_name": "Python 3 (ipykernel)",
   "language": "python",
   "name": "python3"
  },
  "language_info": {
   "codemirror_mode": {
    "name": "ipython",
    "version": 3
   },
   "file_extension": ".py",
   "mimetype": "text/x-python",
   "name": "python",
   "nbconvert_exporter": "python",
   "pygments_lexer": "ipython3",
   "version": "3.10.9"
  }
 },
 "nbformat": 4,
 "nbformat_minor": 5
}
